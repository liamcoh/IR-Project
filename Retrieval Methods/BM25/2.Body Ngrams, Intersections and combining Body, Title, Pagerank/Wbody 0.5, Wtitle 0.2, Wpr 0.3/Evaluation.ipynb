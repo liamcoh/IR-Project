{
  "nbformat": 4,
  "nbformat_minor": 0,
  "metadata": {
    "colab": {
      "name": "Evaluation.ipynb",
      "provenance": [],
      "collapsed_sections": []
    },
    "kernelspec": {
      "name": "python3",
      "display_name": "Python 3"
    },
    "language_info": {
      "name": "python"
    }
  },
  "cells": [
    {
      "cell_type": "markdown",
      "source": [
        "# Setup"
      ],
      "metadata": {
        "id": "VwGdEoHPxfUq"
      }
    },
    {
      "cell_type": "code",
      "source": [
        "url = 'http://ee64-34-125-38-181.ngrok.io'\n",
        "# url = 'http://35.232.59.3:8080'"
      ],
      "metadata": {
        "id": "tOL1fE1y1NQ5"
      },
      "execution_count": 3,
      "outputs": []
    },
    {
      "cell_type": "code",
      "source": [
        "from tqdm import tqdm\n",
        "import matplotlib.pyplot as plt\n",
        "from zipfile import ZipFile\n",
        "%matplotlib inline"
      ],
      "metadata": {
        "id": "EyoyLZ5Fb6jh"
      },
      "execution_count": 2,
      "outputs": []
    },
    {
      "cell_type": "markdown",
      "source": [
        "# Evaluation Functions"
      ],
      "metadata": {
        "id": "Tc3sb0hh1WRr"
      }
    },
    {
      "cell_type": "code",
      "source": [
        "def recall_at_k(true_list,predicted_list,k=40):   \n",
        "      \n",
        "    return round(len([i for i in predicted_list[:k] if i in true_list]) / len(true_list), 3)"
      ],
      "metadata": {
        "id": "37s_KGZx1Y1H"
      },
      "execution_count": 4,
      "outputs": []
    },
    {
      "cell_type": "code",
      "source": [
        "def precision_at_k(true_list,predicted_list,k=40):     \n",
        "\n",
        "    return round(len([i for i in predicted_list[:k] if i in true_list]) / k, 3)"
      ],
      "metadata": {
        "id": "cKfXEsr7ba4j"
      },
      "execution_count": 5,
      "outputs": []
    },
    {
      "cell_type": "code",
      "source": [
        "def r_precision(true_list,predicted_list):\n",
        "\n",
        "    return round(len([i for i in predicted_list[:len(true_list)] if i in true_list]) / len(true_list), 3)"
      ],
      "metadata": {
        "id": "a8icgTjbbesL"
      },
      "execution_count": 6,
      "outputs": []
    },
    {
      "cell_type": "code",
      "source": [
        "def reciprocal_rank_at_k(true_list,predicted_list,k=40):\n",
        "\n",
        "    ele = next((i for i, v in enumerate(predicted_list) if v in true_list), None)\n",
        "    if ele == None or ele > (k - 1):\n",
        "      return 0.000\n",
        "    else:\n",
        "      return round(1 / (ele + 1), 3)"
      ],
      "metadata": {
        "id": "pRqB7ZlpbgLP"
      },
      "execution_count": 7,
      "outputs": []
    },
    {
      "cell_type": "code",
      "source": [
        "def f_score(true_list,predicted_list,k=40):\n",
        "    \n",
        "    precision = precision_at_k(true_list,predicted_list,k)\n",
        "    recall = recall_at_k(true_list,predicted_list,k)\n",
        "    if precision == 0 and recall == 0:\n",
        "      return 0\n",
        "    else:\n",
        "      return round((2 * precision * recall) / (precision + recall), 3)"
      ],
      "metadata": {
        "id": "W7AxBt_Dbmv9"
      },
      "execution_count": 8,
      "outputs": []
    },
    {
      "cell_type": "code",
      "source": [
        "def average_precision(true_list, predicted_list, k=40):\n",
        "    true_set = frozenset(true_list)\n",
        "    predicted_list = predicted_list[:k]\n",
        "    precisions = []\n",
        "    for i,doc_id in enumerate(predicted_list):        \n",
        "        if doc_id in true_set:\n",
        "            prec = (len(precisions)+1) / (i+1)            \n",
        "            precisions.append(prec)\n",
        "    if len(precisions) == 0:\n",
        "        return 0.0\n",
        "    return round(sum(precisions)/len(precisions),3)"
      ],
      "metadata": {
        "id": "Zv8v0xwHuCf8"
      },
      "execution_count": 9,
      "outputs": []
    },
    {
      "cell_type": "code",
      "source": [
        "def evaluate(true_relevancy,predicted_relevancy,k,print_scores=True):   \n",
        "\n",
        "    recall_lst = []\n",
        "    precision_lst = []\n",
        "    f_score_lst = []\n",
        "    r_precision_lst = []\n",
        "    reciprocal_rank_lst = []\n",
        "    avg_precision_lst = []\n",
        "    metrices = {'recall@k':recall_lst,\n",
        "                'precision@k':precision_lst,\n",
        "                'f_score@k': f_score_lst,\n",
        "                'r-precision': r_precision_lst,\n",
        "                'MRR@k':reciprocal_rank_lst,\n",
        "                'MAP@k':avg_precision_lst}\n",
        "\n",
        "    for query, ground_true in true_relevancy:  \n",
        "      predicted = predicted_relevancy[query]\n",
        "\n",
        "      recall_lst.append(recall_at_k(ground_true,predicted,k=k))\n",
        "      precision_lst.append(precision_at_k(ground_true,predicted,k=k))\n",
        "      f_score_lst.append(f_score(ground_true,predicted,k=k))\n",
        "      r_precision_lst.append(r_precision(ground_true,predicted))\n",
        "      reciprocal_rank_lst.append(reciprocal_rank_at_k(ground_true,predicted,k=k))\n",
        "      avg_precision_lst.append(average_precision(ground_true,predicted,k=k))\n",
        "\n",
        "    if print_scores:\n",
        "        for name,values in metrices.items():\n",
        "                print(name,sum(values)/len(values))\n",
        "\n",
        "    return metrices"
      ],
      "metadata": {
        "id": "PiMo6MELcCWy"
      },
      "execution_count": 10,
      "outputs": []
    },
    {
      "cell_type": "code",
      "source": [
        "def plot_metric_different_quieries(true_relevancy,predicted_relevancy,metrices_names,k):\n",
        "\n",
        "    for metric_name in metrices_names:\n",
        "      met = evaluate(true_relevancy,predicted_relevancy,k=k,print_scores=False)\n",
        "      met_list = met[metric_name]\n",
        "      plt.xlabel(\"Queries\")\n",
        "      plt.ylabel(\"Metric\")\n",
        "      plt.title(metric_name)\n",
        "      plt.bar([i+1 for i in range(len(met_list))], met_list)\n",
        "      plt.show()"
      ],
      "metadata": {
        "id": "kMlNlaHGcqMM"
      },
      "execution_count": 131,
      "outputs": []
    },
    {
      "cell_type": "markdown",
      "source": [
        "# Test PageRank and PageViews"
      ],
      "metadata": {
        "id": "64uyqhEXvg7s"
      }
    },
    {
      "cell_type": "code",
      "source": [
        "import requests\n",
        "from time import time\n",
        "\n",
        "try:\n",
        "  res = requests.post(url + '/get_pageview', json=[1, 3434750, 713, 1], timeout=35)\n",
        "  if res.status_code == 200:\n",
        "    pred_wids = res.json()\n",
        "    print(pred_wids)\n",
        "except:\n",
        "  pass\n",
        "\n",
        "try:\n",
        "  res = requests.post(url + '/get_pagerank', json=[1, 3434750, 713, 1], timeout=35)\n",
        "  if res.status_code == 200:\n",
        "    pred_wids = res.json()\n",
        "    print(pred_wids)\n",
        "except:\n",
        "  pass"
      ],
      "metadata": {
        "id": "mk52tWbUW0-F",
        "colab": {
          "base_uri": "https://localhost:8080/"
        },
        "outputId": "08fa97fe-2c27-47f5-c191-100dec0baede"
      },
      "execution_count": 44,
      "outputs": [
        {
          "output_type": "stream",
          "name": "stdout",
          "text": [
            "[1559062, 14347]\n",
            "[9913.72878216078, 13.387949399744079]\n"
          ]
        }
      ]
    },
    {
      "cell_type": "markdown",
      "source": [
        "# Test all queries with MAP"
      ],
      "metadata": {
        "id": "jR8XxS4b1ZZq"
      }
    },
    {
      "cell_type": "code",
      "source": [
        "import json\n",
        "\n",
        "with open('queries_train.json', 'rt') as f:\n",
        "  queries = json.load(f)"
      ],
      "metadata": {
        "id": "6MPq5mSc1Y4Z"
      },
      "execution_count": 126,
      "outputs": []
    },
    {
      "cell_type": "code",
      "source": [
        "import pickle\n",
        "\n",
        "with open(\"dt/dt.pkl\", 'rb') as f:\n",
        "    dt = pickle.load(f)"
      ],
      "metadata": {
        "id": "0U_lGQ-lDEjj"
      },
      "execution_count": 127,
      "outputs": []
    },
    {
      "cell_type": "code",
      "source": [
        "a = {k:[(id,dt.get(id, 'None')) for id in v] for k, v in queries.items()}"
      ],
      "metadata": {
        "id": "t3TWKS18_o--"
      },
      "execution_count": 128,
      "outputs": []
    },
    {
      "cell_type": "code",
      "source": [
        "print(a['how to earn money online'])\n",
        "#print(len([t for id, t in a['data science'] if (('data' in t or 'Data' in t) and ('Science' in t or 'science' in t))]))"
      ],
      "metadata": {
        "colab": {
          "base_uri": "https://localhost:8080/"
        },
        "id": "1QH-Ww90R7Lk",
        "outputId": "ed511d5e-6ab3-4205-9da2-77738dfdd3b3"
      },
      "execution_count": 133,
      "outputs": [
        {
          "output_type": "stream",
          "name": "stdout",
          "text": [
            "[(17362858, 'Make Money Fast'), (8957449, 'Work-at-home scheme'), (13612149, 'Paid to click'), (51895777, 'Make Money'), (60898024, 'Advertising revenue'), (50683920, 'Business of webcomics'), (42471422, 'Micro job'), (8983183, 'Money'), (63295665, 'Prodege'), (484030, 'Freelancer'), (3206057, 'Black money scam'), (1847385, 'Pay to surf'), (52412294, 'Media Revenue Generation'), (31452088, 'Fiverr'), (1012806, 'Click fraud'), (59440349, 'Steady (app)'), (195809, 'PayPal'), (703758, 'Affiliate marketing'), (15037, 'Income'), (1279101, 'Entropia Universe'), (2095532, 'Passive income'), (17418777, 'List of confidence tricks'), (805626, 'Internet fraud'), (6050003, 'Beenz.com'), (19390, 'Money laundering'), (19776474, 'Internet celebrity'), (11921, 'Gambling'), (4193788, 'Making Money'), (14754518, 'Website monetization'), (21179478, 'Social media marketing'), (2732267, 'Gold farming'), (2941963, 'Remittance'), (39217006, 'HitBliss'), (2905253, 'Cashback'), (1946204, 'Music industry'), (3287760, 'Gold sink'), (59872594, 'OnlyFans'), (39206, 'Business'), (63121, 'Investment'), (234921, 'Mobile payment'), (48732, 'Pyramid scheme'), (19344654, 'BBC'), (372478, 'Video game industry'), (32843712, 'Udemy'), (4361873, 'Rake (poker)'), (806538, 'Cost per impression'), (3524766, 'YouTube'), (2797868, 'Upromise'), (43601944, 'Ketto'), (48449792, 'Video game monetization'), (13051060, 'Kwari'), (45691897, 'Rakuten Rewards'), (46526, 'Advance-fee scam'), (36662188, 'Cryptocurrency'), (142528, 'Jeff Bezos'), (19288592, 'Maximum wage'), (43250171, 'How to Make Money Selling Drugs'), (42332846, 'Moonlight clan'), (2213921, 'Online gambling'), (56440839, 'Kannum Kannum Kollaiyadithaal'), (33680356, 'Qnet'), (529056, 'Massively multiplayer online game'), (32362461, 'Massive open online course'), (68186473, 'Axie Infinity'), (51097615, 'ShopStyle'), (17519943, 'Old money (disambiguation)'), (4567010, 'Movement for the Intellectually Disabled of Singapore'), (610452, 'Salary'), (60739751, 'How to Sell Drugs Online (Fast)'), (19585449, 'JobStreet.com'), (3528947, 'PokerStars'), (846772, 'Get-rich-quick scheme'), (59568301, 'Honey (company)'), (10554676, 'KoronaPay'), (2738057, 'Racketeering'), (28026533, 'Audimated'), (26700112, 'Notehall'), (1549819, 'Cost per action'), (35917094, 'Shopkick'), (24593449, 'Omerta (video game)'), (30810141, 'Flashnotes'), (4992612, 'Referral marketing'), (57851653, 'FIRE movement'), (32400932, 'Market America'), (18169326, 'Italki'), (21549213, 'Remittances to India'), (57275912, 'Taz Taylor (record producer)'), (1118379, 'Online shopping'), (57313961, 'YouTuber'), (909036, 'Elon Musk'), (35356507, 'Coursera'), (4355398, 'Etsy'), (236424, 'Street performance'), (1719292, 'Counterfeit money'), (52328, 'Stock market'), (1184796, 'Intuit')]\n"
          ]
        }
      ]
    },
    {
      "cell_type": "code",
      "source": [
        "token = 'how to earn money online'\n",
        "o = [(id, dt[id]) for id in pred_wids[token] if id not in [id for id, t in a[token]]] # חזרו ולא רלוונטים\n",
        "b = [(id, t) for id, t in a[token] if id in pred_wids[token]] # רלוונטים שחזרו\n",
        "c = [(id, t) for id, t in a[token] if id not in pred_wids[token]] # רלוונטים שלא חזרו\n",
        "selected = c\n",
        "print(len(selected))\n",
        "print(selected)"
      ],
      "metadata": {
        "colab": {
          "base_uri": "https://localhost:8080/"
        },
        "id": "6zvu0UKH_zXp",
        "outputId": "c82e7273-ea5e-4022-d5d9-167b8ed31902"
      },
      "execution_count": 136,
      "outputs": [
        {
          "output_type": "stream",
          "name": "stdout",
          "text": [
            "90\n",
            "[(17362858, 'Make Money Fast'), (8957449, 'Work-at-home scheme'), (13612149, 'Paid to click'), (51895777, 'Make Money'), (60898024, 'Advertising revenue'), (50683920, 'Business of webcomics'), (42471422, 'Micro job'), (63295665, 'Prodege'), (484030, 'Freelancer'), (3206057, 'Black money scam'), (1847385, 'Pay to surf'), (52412294, 'Media Revenue Generation'), (31452088, 'Fiverr'), (1012806, 'Click fraud'), (59440349, 'Steady (app)'), (195809, 'PayPal'), (703758, 'Affiliate marketing'), (15037, 'Income'), (1279101, 'Entropia Universe'), (2095532, 'Passive income'), (17418777, 'List of confidence tricks'), (805626, 'Internet fraud'), (6050003, 'Beenz.com'), (19776474, 'Internet celebrity'), (11921, 'Gambling'), (4193788, 'Making Money'), (14754518, 'Website monetization'), (21179478, 'Social media marketing'), (2732267, 'Gold farming'), (2941963, 'Remittance'), (39217006, 'HitBliss'), (2905253, 'Cashback'), (1946204, 'Music industry'), (3287760, 'Gold sink'), (59872594, 'OnlyFans'), (39206, 'Business'), (63121, 'Investment'), (234921, 'Mobile payment'), (48732, 'Pyramid scheme'), (19344654, 'BBC'), (372478, 'Video game industry'), (32843712, 'Udemy'), (4361873, 'Rake (poker)'), (806538, 'Cost per impression'), (3524766, 'YouTube'), (2797868, 'Upromise'), (43601944, 'Ketto'), (48449792, 'Video game monetization'), (13051060, 'Kwari'), (45691897, 'Rakuten Rewards'), (46526, 'Advance-fee scam'), (36662188, 'Cryptocurrency'), (142528, 'Jeff Bezos'), (19288592, 'Maximum wage'), (43250171, 'How to Make Money Selling Drugs'), (42332846, 'Moonlight clan'), (56440839, 'Kannum Kannum Kollaiyadithaal'), (33680356, 'Qnet'), (68186473, 'Axie Infinity'), (51097615, 'ShopStyle'), (17519943, 'Old money (disambiguation)'), (4567010, 'Movement for the Intellectually Disabled of Singapore'), (610452, 'Salary'), (60739751, 'How to Sell Drugs Online (Fast)'), (19585449, 'JobStreet.com'), (3528947, 'PokerStars'), (846772, 'Get-rich-quick scheme'), (59568301, 'Honey (company)'), (10554676, 'KoronaPay'), (2738057, 'Racketeering'), (28026533, 'Audimated'), (26700112, 'Notehall'), (1549819, 'Cost per action'), (35917094, 'Shopkick'), (24593449, 'Omerta (video game)'), (30810141, 'Flashnotes'), (4992612, 'Referral marketing'), (57851653, 'FIRE movement'), (32400932, 'Market America'), (18169326, 'Italki'), (21549213, 'Remittances to India'), (57275912, 'Taz Taylor (record producer)'), (57313961, 'YouTuber'), (909036, 'Elon Musk'), (35356507, 'Coursera'), (4355398, 'Etsy'), (236424, 'Street performance'), (1719292, 'Counterfeit money'), (52328, 'Stock market'), (1184796, 'Intuit')]\n"
          ]
        }
      ]
    },
    {
      "cell_type": "code",
      "source": [
        "import requests\n",
        "from time import time\n",
        "url = 'http://feda-35-196-170-248.ngrok.io'\n",
        "qs_res = []\n",
        "pred_wids = {}\n",
        "sum_duration = 0\n",
        "map25 = True\n",
        "duration35 = True\n",
        "for q, true_wids in queries.items():\n",
        "  duration, ap = None, None\n",
        "  t_start = time()\n",
        "  try:\n",
        "    res = requests.get(url + '/search', {'query': q}, timeout=35)\n",
        "    duration = time() - t_start\n",
        "    sum_duration += duration\n",
        "    if res.status_code == 200:\n",
        "      pred_wids[q] = [tup[0] for tup in res.json()]\n",
        "      ap = average_precision(true_wids, pred_wids[q])\n",
        "      if ap < 0.25: map25 = False \n",
        "  except:\n",
        "    pass\n",
        "  \n",
        "  if duration == None: duration35 = False\n",
        "  qs_res.append((q, duration, ap))"
      ],
      "metadata": {
        "id": "K5h2YPO-uGVl"
      },
      "execution_count": 179,
      "outputs": []
    },
    {
      "cell_type": "code",
      "source": [
        "print(\"Duration < 35s : \" + str(duration35))\n",
        "print(\"AP@40 > 0.25   : \" + str(map25))\n",
        "print(\"AVG Duration   : \" + str(sum_duration/len(queries)) + \"\\n\")\n",
        "qs_res"
      ],
      "metadata": {
        "colab": {
          "base_uri": "https://localhost:8080/"
        },
        "id": "x6hs9zNTuvDy",
        "outputId": "de217cb0-b3d7-4261-a812-d2a745651be9"
      },
      "execution_count": 180,
      "outputs": [
        {
          "output_type": "stream",
          "name": "stdout",
          "text": [
            "Duration < 35s : True\n",
            "AP@40 > 0.25   : False\n",
            "AVG Duration   : 1.1905161619186402\n",
            "\n"
          ]
        },
        {
          "output_type": "execute_result",
          "data": {
            "text/plain": [
              "[('python', 0.16689682006835938, 0.753),\n",
              " ('data science', 1.2766375541687012, 0.769),\n",
              " ('migraine', 0.08427906036376953, 0.983),\n",
              " ('chocolate', 0.24769377708435059, 0.731),\n",
              " ('how to make pasta', 1.7641079425811768, 0.554),\n",
              " ('Does pasta have preservatives?', 1.786224603652954, 0.324),\n",
              " ('how google works', 2.9306890964508057, 0.792),\n",
              " ('what is information retrieval', 1.0375006198883057, 0.929),\n",
              " ('NBA', 0.3210465908050537, 0.538),\n",
              " ('yoga', 0.15656328201293945, 0.69),\n",
              " ('how to not kill plants', 1.2160725593566895, 0.303),\n",
              " ('masks', 0.49052858352661133, 0.647),\n",
              " ('black friday', 1.0931520462036133, 0.937),\n",
              " ('why do men have nipples', 3.7870538234710693, 0.774),\n",
              " ('rubber duck', 0.2197284698486328, 0.872),\n",
              " ('michelin', 0.11311054229736328, 0.69),\n",
              " ('what to watch', 1.446965217590332, 0.567),\n",
              " ('best marvel movie', 1.961000680923462, 0.332),\n",
              " ('how tall is the eiffel tower', 0.625298261642456, 0.85),\n",
              " ('where does vanilla flavoring come from', 1.1374437808990479, 0.858),\n",
              " ('best ice cream flavour', 2.1490824222564697, 0.53),\n",
              " ('how to tie a tie', 0.43343019485473633, 0.454),\n",
              " ('how to earn money online', 1.5538272857666016, 0.04),\n",
              " ('what is critical race theory', 1.7929961681365967, 0.78),\n",
              " ('what space movie was made in 1992', 4.016869783401489, 1.0),\n",
              " ('how to vote', 2.287121295928955, 0.826),\n",
              " ('google trends', 0.31520891189575195, 0.888),\n",
              " ('dim sum', 0.20250320434570312, 0.912),\n",
              " ('ted', 0.5362670421600342, 0.652),\n",
              " ('fairy tale', 0.5661852359771729, 0.582)]"
            ]
          },
          "metadata": {},
          "execution_count": 180
        }
      ]
    },
    {
      "cell_type": "code",
      "source": [
        "evaluate(queries.items(),pred_wids,k=40,print_scores=True)\n",
        "plot_metric_different_quieries(queries.items(),pred_wids,['precision@k','recall@k','f_score@k','r-precision','MRR@k','MAP@k'],k=40)"
      ],
      "metadata": {
        "colab": {
          "base_uri": "https://localhost:8080/",
          "height": 1000
        },
        "id": "9IvgAUn847QD",
        "outputId": "cd065163-ca35-410d-d493-c081f76c886d"
      },
      "execution_count": 181,
      "outputs": [
        {
          "output_type": "stream",
          "name": "stdout",
          "text": [
            "recall@k 0.2307\n",
            "precision@k 0.4541666666666667\n",
            "f_score@k 0.30423333333333324\n",
            "r-precision 0.31923333333333337\n",
            "MRR@k 0.8790999999999999\n",
            "MAP@k 0.6852333333333334\n"
          ]
        },
        {
          "output_type": "display_data",
          "data": {
            "image/png": "[encoded data removed]",
            "text/plain": [
              "<Figure size 432x288 with 1 Axes>"
            ]
          },
          "metadata": {
            "needs_background": "light"
          }
        },
        {
          "output_type": "display_data",
          "data": {
            "image/png": "[encoded data removed]",
            "text/plain": [
              "<Figure size 432x288 with 1 Axes>"
            ]
          },
          "metadata": {
            "needs_background": "light"
          }
        },
        {
          "output_type": "display_data",
          "data": {
            "image/png": "[encoded data removed]",
            "text/plain": [
              "<Figure size 432x288 with 1 Axes>"
            ]
          },
          "metadata": {
            "needs_background": "light"
          }
        },
        {
          "output_type": "display_data",
          "data": {
            "image/png": "[encoded data removed]",
            "text/plain": [
              "<Figure size 432x288 with 1 Axes>"
            ]
          },
          "metadata": {
            "needs_background": "light"
          }
        },
        {
          "output_type": "display_data",
          "data": {
            "image/png": "[encoded data removed]",
            "text/plain": [
              "<Figure size 432x288 with 1 Axes>"
            ]
          },
          "metadata": {
            "needs_background": "light"
          }
        },
        {
          "output_type": "display_data",
          "data": {
            "image/png": "[encoded data removed]",
            "text/plain": [
              "<Figure size 432x288 with 1 Axes>"
            ]
          },
          "metadata": {
            "needs_background": "light"
          }
        }
      ]
    }
  ]
}