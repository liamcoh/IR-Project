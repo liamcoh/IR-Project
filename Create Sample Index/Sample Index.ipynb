{
  "cells": [
    {
      "cell_type": "markdown",
      "metadata": {
        "id": "7_JD4juEO3b-"
      },
      "source": [
        "# sample index"
      ]
    },
    {
      "cell_type": "code",
      "execution_count": null,
      "metadata": {
        "id": "9J2UbQDKN7IB"
      },
      "outputs": [],
      "source": [
        "!gsutil -m cp -r \"gs://316399401/NAME OF DIR/index.pkl\" \".\""
      ]
    },
    {
      "cell_type": "code",
      "execution_count": 10,
      "metadata": {
        "id": "N4LheGJTOeOz"
      },
      "outputs": [],
      "source": [
        "import pickle\n",
        "\n",
        "with open(\"index.pkl\", 'rb') as f:\n",
        "    index = pickle.load(f)"
      ]
    },
    {
      "cell_type": "code",
      "execution_count": 11,
      "metadata": {
        "id": "F7Zk0tGTO77m"
      },
      "outputs": [],
      "source": [
        "import json\n",
        "\n",
        "with open('queries_train.json', 'rt') as f:\n",
        "  queries = json.load(f)"
      ]
    },
    {
      "cell_type": "code",
      "execution_count": null,
      "metadata": {
        "id": "WLeYQpUXPjrt"
      },
      "outputs": [],
      "source": [
        "import re\n",
        "import nltk\n",
        "from nltk.stem.porter import *\n",
        "from nltk.corpus import stopwords\n",
        "nltk.download('stopwords')\n",
        "RE_WORD = re.compile(r\"\"\"[\\#\\@\\w](['\\-]?\\w){2,24}\"\"\", re.UNICODE)\n",
        "english_stopwords = frozenset(stopwords.words('english'))\n",
        "corpus_stopwords = [\"category\", \"references\", \"also\", \"external\", \"links\", \n",
        "                    \"may\", \"first\", \"see\", \"history\", \"people\", \"one\", \"two\", \n",
        "                    \"part\", \"thumb\", \"including\", \"second\", \"following\", \n",
        "                    \"many\", \"however\", \"would\", \"became\"]\n",
        "\n",
        "all_stopwords = english_stopwords.union(corpus_stopwords)\n",
        "\n",
        "queries_tokens = []\n",
        "for query in list(queries.keys()):\n",
        "    queries_tokens += [token.group() for token in RE_WORD.finditer(query.lower())]\n",
        "    queries_tokens = [t for t  in queries_tokens if t not in all_stopwords]"
      ]
    },
    {
      "cell_type": "code",
      "execution_count": 13,
      "metadata": {
        "id": "DWPE8wIqOpU8"
      },
      "outputs": [],
      "source": [
        "# Get Postings locs of sample tokens\n",
        "locs = []\n",
        "\n",
        "for query in queries_tokens:\n",
        "  locs.append(index_title.posting_locs[query])"
      ]
    },
    {
      "cell_type": "code",
      "execution_count": null,
      "metadata": {
        "id": "j6EG9Bgba32C"
      },
      "outputs": [],
      "source": [
        "# Download only specific bin files\n",
        "for i in locs:\n",
        "  for a in i:\n",
        "    gspath = \"gs://316399401/NAME OF DIR/\"+a[0]\n",
        "    save = \"./NAME OF DIR_sample\" \n",
        "    !gsutil -m cp -r $gspath $save"
      ]
    },
    {
      "cell_type": "code",
      "execution_count": null,
      "metadata": {
        "id": "-NBvPK4FXfvq"
      },
      "outputs": [],
      "source": [
        "# Zip dir for easy download from colab to local PC\n",
        "!zip -r \"postings_gcp_body_sample.zip\" \"postings_gcp_body_sample\""
      ]
    }
  ],
  "metadata": {
    "colab": {
      "collapsed_sections": [],
      "name": "run_frontend_in_colab.ipynb",
      "provenance": []
    },
    "kernelspec": {
      "display_name": "Python 3",
      "name": "python3"
    },
    "language_info": {
      "name": "python"
    }
  },
  "nbformat": 4,
  "nbformat_minor": 0
}
